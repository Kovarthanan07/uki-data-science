{
 "cells": [
  {
   "cell_type": "code",
   "execution_count": 3,
   "metadata": {},
   "outputs": [],
   "source": [
    "#importing required python libraries\n",
    "import sys\n",
    "import re\n",
    "import numpy as np\n",
    "\n",
    "import csv\n",
    "import matplotlib.pyplot as plt\n",
    "import os\n",
    "from sklearn.feature_extraction.text import CountVectorizer\n",
    "from sklearn.model_selection import cross_validate \n",
    "import os\n",
    "from sklearn.cluster import KMeans\n",
    "from sklearn.manifold import TSNE\n",
    "from sklearn.model_selection import train_test_split\n",
    "from sklearn import metrics\n",
    "from sklearn.metrics import accuracy_score"
   ]
  },
  {
   "cell_type": "code",
   "execution_count": 4,
   "metadata": {},
   "outputs": [],
   "source": [
    "#minimum lenght of a dns name\n",
    "MIN_LEN=10\n",
    "\n",
    "#random state\n",
    "random_state = 170\n",
    "#random_state = 1"
   ]
  },
  {
   "cell_type": "code",
   "execution_count": 5,
   "metadata": {},
   "outputs": [],
   "source": [
    "def load_alexa(filename):\n",
    "    domain_list=[]\n",
    "    csv_reader = csv.reader(open(filename))\n",
    "    for row in csv_reader:\n",
    "        domain=row[1]\n",
    "        #print(domain)\n",
    "        if len(domain) >= MIN_LEN:\n",
    "            domain_list.append(domain)\n",
    "    return domain_list\n",
    "\n",
    "def domain2ver(domain):\n",
    "    ver=[]\n",
    "    for i in range(0,len(domain)):\n",
    "        ver.append([ord(domain[i])])\n",
    "    return ver\n",
    "\n",
    "\n",
    "def load_dga(filename):\n",
    "    domain_list=[]\n",
    "    with open(filename) as f:\n",
    "        for line in f:\n",
    "            domain=line.split(\",\")[0]\n",
    "            if len(domain) >= MIN_LEN:\n",
    "                domain_list.append(domain)\n",
    "    return domain_list\n",
    "\n",
    "\n",
    "#load dns data\n",
    "x1_domain_list = load_alexa(\"./dga/top-100.csv\")\n",
    "x2_domain_list = load_dga(\"./dga/dga-cryptolocke-50.txt\")\n",
    "x3_domain_list = load_dga(\"./dga/dga-post-tovar-goz-50.txt\")\n",
    "\n",
    "x_domain_list=np.concatenate((x1_domain_list, x2_domain_list,x3_domain_list))\n"
   ]
  },
  {
   "cell_type": "code",
   "execution_count": 6,
   "metadata": {},
   "outputs": [],
   "source": [
    "y1=[0]*len(x1_domain_list)\n",
    "y2=[1]*len(x2_domain_list)\n",
    "y3=[1]*len(x3_domain_list)\n",
    "\n",
    "y=np.concatenate((y1, y2,y3))\n",
    "\n",
    "cv = CountVectorizer(ngram_range=(2, 2), decode_error=\"ignore\",\n",
    "                                      token_pattern=r\"\\w\", min_df=1)\n",
    "x= cv.fit_transform(x_domain_list).toarray()\n"
   ]
  },
  {
   "cell_type": "code",
   "execution_count": 7,
   "metadata": {},
   "outputs": [
    {
     "name": "stdout",
     "output_type": "stream",
     "text": [
      "(158, 983)\n"
     ]
    }
   ],
   "source": [
    "# apply KMeans and TSNE \n",
    "k_means = KMeans(n_clusters = 2, random_state=170)\n",
    "k_means.fit(x)\n",
    "y_pred = k_means.fit_predict(x)\n",
    "print(x.shape)"
   ]
  },
  {
   "cell_type": "code",
   "execution_count": 8,
   "metadata": {},
   "outputs": [
    {
     "name": "stdout",
     "output_type": "stream",
     "text": [
      "[1 1 1 0 1 1 1 1 1 1 1 1 1 1 1 1 1 1 1 1 1 1 1 1 1 1 1 1 1 1 1 1 1 1 1 1 0\n",
      " 1 1 1 1 1 1 1 1 1 0 1 1 1 1 1 1 1 1 1 0 1 1 0 0 0 0 0 0 1 0 0 0 0 0 0 1 0\n",
      " 0 0 0 0 0 1 0 0 0 0 0 0 1 0 0 0 0 1 0 1 0 0 0 0 0 0 1 0 0 0 0 1 0 1 1 0 0\n",
      " 0 1 0 0 0 1 0 0 0 1 0 0 0 1 0 0 0 1 0 0 0 1 0 0 0 1 0 0 0 1 0 0 0 1 0 0 0\n",
      " 1 0 0 0 1 0 0 0 1 0]\n"
     ]
    }
   ],
   "source": [
    "k_means_labels = k_means.labels_\n",
    "print(k_means_labels)"
   ]
  },
  {
   "cell_type": "code",
   "execution_count": 9,
   "metadata": {
    "scrolled": true
   },
   "outputs": [
    {
     "name": "stdout",
     "output_type": "stream",
     "text": [
      "[[7.80625564e-18 2.46913580e-02 1.23456790e-02 ... 1.23456790e-02\n",
      "  7.80625564e-18 1.23456790e-02]\n",
      " [1.29870130e-02 1.29870130e-02 7.80625564e-18 ... 1.29870130e-02\n",
      "  1.29870130e-02 7.80625564e-18]]\n"
     ]
    }
   ],
   "source": [
    "k_means_cluster_centers = k_means.cluster_centers_\n",
    "print(k_means_cluster_centers)"
   ]
  },
  {
   "cell_type": "code",
   "execution_count": 10,
   "metadata": {
    "scrolled": false
   },
   "outputs": [
    {
     "name": "stdout",
     "output_type": "stream",
     "text": [
      "(158, 983)\n",
      "17.088607594936708\n",
      "(158, 2)\n"
     ]
    }
   ],
   "source": [
    "#reduce dimensionality to 2 to visualize the clusters found\n",
    "tsne = TSNE(learning_rate=100, random_state=170)\n",
    "tsne.fit(x)\n",
    "tsne_data = tsne.fit_transform(x)\n",
    "#print the data shape before and after TSNE\n",
    "print(x.shape)\n",
    "acc = np.mean(y_pred == y)*100\n",
    "print(acc)\n",
    "print(tsne_data.shape)"
   ]
  },
  {
   "cell_type": "code",
   "execution_count": 11,
   "metadata": {},
   "outputs": [
    {
     "data": {
      "image/png": "[encoded data removed]",
      "text/plain": [
       "<Figure size 432x288 with 1 Axes>"
      ]
     },
     "metadata": {
      "needs_background": "light"
     },
     "output_type": "display_data"
    }
   ],
   "source": [
    "#visualizing the cluster\n",
    "for i,label in enumerate(tsne_data):\n",
    "    x1,x2=tsne_data[i]\n",
    "    if y_pred[i] == 1:\n",
    "        plt.scatter(x1,x2,marker='x', color='r')\n",
    "    else:\n",
    "        plt.scatter(x1, x2,marker='o', color='b')\n",
    "plt.title('DGA clustering found by kmeans')\n",
    "plt.show()"
   ]
  },
  {
   "cell_type": "code",
   "execution_count": null,
   "metadata": {},
   "outputs": [],
   "source": []
  }
 ],
 "metadata": {
  "kernelspec": {
   "display_name": "Python 3",
   "language": "python",
   "name": "python3"
  },
  "language_info": {
   "codemirror_mode": {
    "name": "ipython",
    "version": 3
   },
   "file_extension": ".py",
   "mimetype": "text/x-python",
   "name": "python",
   "nbconvert_exporter": "python",
   "pygments_lexer": "ipython3",
   "version": "3.8.5"
  }
 },
 "nbformat": 4,
 "nbformat_minor": 4
}
